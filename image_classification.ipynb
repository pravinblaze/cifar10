{
 "cells": [
  {
   "cell_type": "markdown",
   "metadata": {
    "collapsed": true
   },
   "source": [
    "# Image Classification\n",
    "In this project, you'll classify images from the [CIFAR-10 dataset](https://www.cs.toronto.edu/~kriz/cifar.html).  The dataset consists of airplanes, dogs, cats, and other objects. You'll preprocess the images, then train a convolutional neural network on all the samples. The images need to be normalized and the labels need to be one-hot encoded.  You'll get to apply what you learned and build a convolutional, max pooling, dropout, and fully connected layers.  At the end, you'll get to see your neural network's predictions on the sample images.\n",
    "## Get the Data\n",
    "Run the following cell to download the [CIFAR-10 dataset for python](https://www.cs.toronto.edu/~kriz/cifar-10-python.tar.gz)."
   ]
  },
  {
   "cell_type": "code",
   "execution_count": 1,
   "metadata": {},
   "outputs": [
    {
     "name": "stdout",
     "output_type": "stream",
     "text": [
      "All files found!\n"
     ]
    }
   ],
   "source": [
    "\"\"\"\n",
    "DON'T MODIFY ANYTHING IN THIS CELL THAT IS BELOW THIS LINE\n",
    "\"\"\"\n",
    "from urllib.request import urlretrieve\n",
    "from os.path import isfile, isdir\n",
    "from tqdm import tqdm\n",
    "import problem_unittests as tests\n",
    "import tarfile\n",
    "\n",
    "cifar10_dataset_folder_path = 'cifar-10-batches-py'\n",
    "\n",
    "class DLProgress(tqdm):\n",
    "    last_block = 0\n",
    "\n",
    "    def hook(self, block_num=1, block_size=1, total_size=None):\n",
    "        self.total = total_size\n",
    "        self.update((block_num - self.last_block) * block_size)\n",
    "        self.last_block = block_num\n",
    "\n",
    "if not isfile('cifar-10-python.tar.gz'):\n",
    "    with DLProgress(unit='B', unit_scale=True, miniters=1, desc='CIFAR-10 Dataset') as pbar:\n",
    "        urlretrieve(\n",
    "            'https://www.cs.toronto.edu/~kriz/cifar-10-python.tar.gz',\n",
    "            'cifar-10-python.tar.gz',\n",
    "            pbar.hook)\n",
    "\n",
    "if not isdir(cifar10_dataset_folder_path):\n",
    "    with tarfile.open('cifar-10-python.tar.gz') as tar:\n",
    "        tar.extractall()\n",
    "        tar.close()\n",
    "\n",
    "\n",
    "tests.test_folder_path(cifar10_dataset_folder_path)"
   ]
  },
  {
   "cell_type": "markdown",
   "metadata": {},
   "source": [
    "## Explore the Data\n",
    "The dataset is broken into batches to prevent your machine from running out of memory.  The CIFAR-10 dataset consists of 5 batches, named `data_batch_1`, `data_batch_2`, etc.. Each batch contains the labels and images that are one of the following:\n",
    "* airplane\n",
    "* automobile\n",
    "* bird\n",
    "* cat\n",
    "* deer\n",
    "* dog\n",
    "* frog\n",
    "* horse\n",
    "* ship\n",
    "* truck\n",
    "\n",
    "Understanding a dataset is part of making predictions on the data.  Play around with the code cell below by changing the `batch_id` and `sample_id`. The `batch_id` is the id for a batch (1-5). The `sample_id` is the id for a image and label pair in the batch.\n",
    "\n",
    "Ask yourself \"What are all possible labels?\", \"What is the range of values for the image data?\", \"Are the labels in order or random?\".  Answers to questions like these will help you preprocess the data and end up with better predictions."
   ]
  },
  {
   "cell_type": "code",
   "execution_count": 2,
   "metadata": {},
   "outputs": [
    {
     "name": "stdout",
     "output_type": "stream",
     "text": [
      "\n",
      "Stats of batch 4:\n",
      "Samples: 10000\n",
      "Label Counts: {0: 1003, 1: 963, 2: 1041, 3: 976, 4: 1004, 5: 1021, 6: 1004, 7: 981, 8: 1024, 9: 983}\n",
      "First 20 Labels: [0, 6, 0, 2, 7, 2, 1, 2, 4, 1, 5, 6, 6, 3, 1, 3, 5, 5, 8, 1]\n",
      "\n",
      "Example of Image 7:\n",
      "Image - Min Value: 17 Max Value: 221\n",
      "Image - Shape: (32, 32, 3)\n",
      "Label - Label Id: 2 Name: bird\n"
     ]
    },
    {
     "data": {
      "image/png": "[encoded data removed]",
      "text/plain": [
       "<matplotlib.figure.Figure at 0x7f057ee2d1d0>"
      ]
     },
     "metadata": {
      "image/png": {
       "height": 250,
       "width": 253
      }
     },
     "output_type": "display_data"
    }
   ],
   "source": [
    "%matplotlib inline\n",
    "%config InlineBackend.figure_format = 'retina'\n",
    "\n",
    "import helper\n",
    "import numpy as np\n",
    "\n",
    "# Explore the dataset\n",
    "batch_id = 4 \n",
    "sample_id = 7\n",
    "helper.display_stats(cifar10_dataset_folder_path, batch_id, sample_id)"
   ]
  },
  {
   "cell_type": "markdown",
   "metadata": {},
   "source": [
    "## Implement Preprocess Functions\n",
    "### Normalize\n",
    "In the cell below, implement the `normalize` function to take in image data, `x`, and return it as a normalized Numpy array. The values should be in the range of 0 to 1, inclusive.  The return object should be the same shape as `x`."
   ]
  },
  {
   "cell_type": "code",
   "execution_count": 3,
   "metadata": {},
   "outputs": [
    {
     "name": "stdout",
     "output_type": "stream",
     "text": [
      "Tests Passed\n"
     ]
    }
   ],
   "source": [
    "def normalize(x):\n",
    "    \"\"\"\n",
    "    Normalize a list of sample image data in the range of 0 to 1\n",
    "    : x: List of image data.  The image shape is (32, 32, 3)\n",
    "    : return: Numpy array of normalize data\n",
    "    \"\"\"\n",
    "    # TODO: Implement Function\n",
    "    \n",
    "    x = x/255\n",
    "    \n",
    "    return x\n",
    "\n",
    "\n",
    "\"\"\"\n",
    "DON'T MODIFY ANYTHING IN THIS CELL THAT IS BELOW THIS LINE\n",
    "\"\"\"\n",
    "tests.test_normalize(normalize)"
   ]
  },
  {
   "cell_type": "markdown",
   "metadata": {},
   "source": [
    "### One-hot encode\n",
    "Just like the previous code cell, you'll be implementing a function for preprocessing.  This time, you'll implement the `one_hot_encode` function. The input, `x`, are a list of labels.  Implement the function to return the list of labels as One-Hot encoded Numpy array.  The possible values for labels are 0 to 9. The one-hot encoding function should return the same encoding for each value between each call to `one_hot_encode`.  Make sure to save the map of encodings outside the function.\n",
    "\n",
    "**Hint:**\n",
    "\n",
    "Look into LabelBinarizer in the preprocessing module of sklearn."
   ]
  },
  {
   "cell_type": "code",
   "execution_count": 4,
   "metadata": {},
   "outputs": [
    {
     "name": "stdout",
     "output_type": "stream",
     "text": [
      "Tests Passed\n"
     ]
    }
   ],
   "source": [
    "def one_hot_encode(x):\n",
    "    \"\"\"\n",
    "    One hot encode a list of sample labels. Return a one-hot encoded vector for each label.\n",
    "    : x: List of sample Labels\n",
    "    : return: Numpy array of one-hot encoded labels\n",
    "    \"\"\"\n",
    "    # TODO: Implement Function \n",
    "    \n",
    "    one_hot_array = []\n",
    "    \n",
    "    for label in x:\n",
    "        onehot = np.zeros(10, np.int)\n",
    "        onehot[label] = 1\n",
    "        one_hot_array.append(onehot)\n",
    "    \n",
    "    one_hot_array = np.array(one_hot_array)\n",
    "    \n",
    "    return one_hot_array\n",
    "\n",
    "\n",
    "\"\"\"\n",
    "DON'T MODIFY ANYTHING IN THIS CELL THAT IS BELOW THIS LINE\n",
    "\"\"\"\n",
    "tests.test_one_hot_encode(one_hot_encode)"
   ]
  },
  {
   "cell_type": "markdown",
   "metadata": {},
   "source": [
    "### Randomize Data\n",
    "As you saw from exploring the data above, the order of the samples are randomized.  It doesn't hurt to randomize it again, but you don't need to for this dataset."
   ]
  },
  {
   "cell_type": "markdown",
   "metadata": {},
   "source": [
    "## Preprocess all the data and save it\n",
    "Running the code cell below will preprocess all the CIFAR-10 data and save it to file. The code below also uses 10% of the training data for validation."
   ]
  },
  {
   "cell_type": "code",
   "execution_count": 5,
   "metadata": {},
   "outputs": [],
   "source": [
    "\"\"\"\n",
    "DON'T MODIFY ANYTHING IN THIS CELL\n",
    "\"\"\"\n",
    "# Preprocess Training, Validation, and Testing Data\n",
    "helper.preprocess_and_save_data(cifar10_dataset_folder_path, normalize, one_hot_encode)"
   ]
  },
  {
   "cell_type": "markdown",
   "metadata": {},
   "source": [
    "# Check Point\n",
    "This is your first checkpoint.  If you ever decide to come back to this notebook or have to restart the notebook, you can start from here.  The preprocessed data has been saved to disk."
   ]
  },
  {
   "cell_type": "code",
   "execution_count": 6,
   "metadata": {},
   "outputs": [],
   "source": [
    "\"\"\"\n",
    "DON'T MODIFY ANYTHING IN THIS CELL\n",
    "\"\"\"\n",
    "import pickle\n",
    "import problem_unittests as tests\n",
    "import helper\n",
    "\n",
    "# Load the Preprocessed Validation data\n",
    "valid_features, valid_labels = pickle.load(open('preprocess_validation.p', mode='rb'))"
   ]
  },
  {
   "cell_type": "markdown",
   "metadata": {},
   "source": [
    "## Build the network\n",
    "For the neural network, you'll build each layer into a function.  Most of the code you've seen has been outside of functions. To test your code more thoroughly, we require that you put each layer in a function.  This allows us to give you better feedback and test for simple mistakes using our unittests before you submit your project.\n",
    "\n",
    ">**Note:** If you're finding it hard to dedicate enough time for this course each week, we've provided a small shortcut to this part of the project. In the next couple of problems, you'll have the option to use classes from the [TensorFlow Layers](https://www.tensorflow.org/api_docs/python/tf/layers) or [TensorFlow Layers (contrib)](https://www.tensorflow.org/api_guides/python/contrib.layers) packages to build each layer, except the layers you build in the \"Convolutional and Max Pooling Layer\" section.  TF Layers is similar to Keras's and TFLearn's abstraction to layers, so it's easy to pickup.\n",
    "\n",
    ">However, if you would like to get the most out of this course, try to solve all the problems _without_ using anything from the TF Layers packages. You **can** still use classes from other packages that happen to have the same name as ones you find in TF Layers! For example, instead of using the TF Layers version of the `conv2d` class, [tf.layers.conv2d](https://www.tensorflow.org/api_docs/python/tf/layers/conv2d), you would want to use the TF Neural Network version of `conv2d`, [tf.nn.conv2d](https://www.tensorflow.org/api_docs/python/tf/nn/conv2d). \n",
    "\n",
    "Let's begin!\n",
    "\n",
    "### Input\n",
    "The neural network needs to read the image data, one-hot encoded labels, and dropout keep probability. Implement the following functions\n",
    "* Implement `neural_net_image_input`\n",
    " * Return a [TF Placeholder](https://www.tensorflow.org/api_docs/python/tf/placeholder)\n",
    " * Set the shape using `image_shape` with batch size set to `None`.\n",
    " * Name the TensorFlow placeholder \"x\" using the TensorFlow `name` parameter in the [TF Placeholder](https://www.tensorflow.org/api_docs/python/tf/placeholder).\n",
    "* Implement `neural_net_label_input`\n",
    " * Return a [TF Placeholder](https://www.tensorflow.org/api_docs/python/tf/placeholder)\n",
    " * Set the shape using `n_classes` with batch size set to `None`.\n",
    " * Name the TensorFlow placeholder \"y\" using the TensorFlow `name` parameter in the [TF Placeholder](https://www.tensorflow.org/api_docs/python/tf/placeholder).\n",
    "* Implement `neural_net_keep_prob_input`\n",
    " * Return a [TF Placeholder](https://www.tensorflow.org/api_docs/python/tf/placeholder) for dropout keep probability.\n",
    " * Name the TensorFlow placeholder \"keep_prob\" using the TensorFlow `name` parameter in the [TF Placeholder](https://www.tensorflow.org/api_docs/python/tf/placeholder).\n",
    "\n",
    "These names will be used at the end of the project to load your saved model.\n",
    "\n",
    "Note: `None` for shapes in TensorFlow allow for a dynamic size."
   ]
  },
  {
   "cell_type": "code",
   "execution_count": 7,
   "metadata": {},
   "outputs": [
    {
     "name": "stdout",
     "output_type": "stream",
     "text": [
      "Image Input Tests Passed.\n",
      "Label Input Tests Passed.\n",
      "Keep Prob Tests Passed.\n"
     ]
    }
   ],
   "source": [
    "import tensorflow as tf\n",
    "\n",
    "def neural_net_image_input(image_shape):\n",
    "    \"\"\"\n",
    "    Return a Tensor for a batch of image input\n",
    "    : image_shape: Shape of the images\n",
    "    : return: Tensor for image input.\n",
    "    \"\"\"\n",
    "    # TODO: Implement Function\n",
    "    \n",
    "    x = tf.placeholder(tf.float32, (None,)+image_shape, name=\"x\")\n",
    "    \n",
    "    return x\n",
    "\n",
    "\n",
    "def neural_net_label_input(n_classes):\n",
    "    \"\"\"\n",
    "    Return a Tensor for a batch of label input\n",
    "    : n_classes: Number of classes\n",
    "    : return: Tensor for label input.\n",
    "    \"\"\"\n",
    "    # TODO: Implement Function\n",
    "    \n",
    "    y = tf.placeholder(tf.float32, (None,)+(n_classes,), name=\"y\")\n",
    "    \n",
    "    return y\n",
    "\n",
    "\n",
    "def neural_net_keep_prob_input():\n",
    "    \"\"\"\n",
    "    Return a Tensor for keep probability\n",
    "    : return: Tensor for keep probability.\n",
    "    \"\"\"\n",
    "    # TODO: Implement Function\n",
    "    \n",
    "    keep_prob = tf.placeholder(tf.float32, name=\"keep_prob\")\n",
    "    \n",
    "    return keep_prob\n",
    "\n",
    "\n",
    "\"\"\"\n",
    "DON'T MODIFY ANYTHING IN THIS CELL THAT IS BELOW THIS LINE\n",
    "\"\"\"\n",
    "tf.reset_default_graph()\n",
    "tests.test_nn_image_inputs(neural_net_image_input)\n",
    "tests.test_nn_label_inputs(neural_net_label_input)\n",
    "tests.test_nn_keep_prob_inputs(neural_net_keep_prob_input)"
   ]
  },
  {
   "cell_type": "markdown",
   "metadata": {},
   "source": [
    "### Convolution and Max Pooling Layer\n",
    "Convolution layers have a lot of success with images. For this code cell, you should implement the function `conv2d_maxpool` to apply convolution then max pooling:\n",
    "* Create the weight and bias using `conv_ksize`, `conv_num_outputs` and the shape of `x_tensor`.\n",
    "* Apply a convolution to `x_tensor` using weight and `conv_strides`.\n",
    " * We recommend you use same padding, but you're welcome to use any padding.\n",
    "* Add bias\n",
    "* Add a nonlinear activation to the convolution.\n",
    "* Apply Max Pooling using `pool_ksize` and `pool_strides`.\n",
    " * We recommend you use same padding, but you're welcome to use any padding.\n",
    "\n",
    "**Note:** You **can't** use [TensorFlow Layers](https://www.tensorflow.org/api_docs/python/tf/layers) or [TensorFlow Layers (contrib)](https://www.tensorflow.org/api_guides/python/contrib.layers) for **this** layer, but you can still use TensorFlow's [Neural Network](https://www.tensorflow.org/api_docs/python/tf/nn) package. You may still use the shortcut option for all the **other** layers.\n",
    "\n",
    "** Hint: **\n",
    "\n",
    "When unpacking values as an argument in Python, look into the [unpacking](https://docs.python.org/3/tutorial/controlflow.html#unpacking-argument-lists) operator. "
   ]
  },
  {
   "cell_type": "code",
   "execution_count": 37,
   "metadata": {},
   "outputs": [
    {
     "name": "stdout",
     "output_type": "stream",
     "text": [
      "Tests Passed\n"
     ]
    }
   ],
   "source": [
    "def conv2d_maxpool(x_tensor, conv_num_outputs, conv_ksize, conv_strides, pool_ksize, pool_strides):\n",
    "    \"\"\"\n",
    "    Apply convolution then max pooling to x_tensor\n",
    "    :param x_tensor: TensorFlow Tensor\n",
    "    :param conv_num_outputs: Number of outputs for the convolutional layer\n",
    "    :param conv_ksize: kernal size 2-D Tuple for the convolutional layer\n",
    "    :param conv_strides: Stride 2-D Tuple for convolution\n",
    "    :param pool_ksize: kernal size 2-D Tuple for pool\n",
    "    :param pool_strides: Stride 2-D Tuple for pool\n",
    "    : return: A tensor that represents convolution and max pooling of x_tensor\n",
    "    \"\"\"\n",
    "    # TODO: Implement Function\n",
    "    \n",
    "    input_depth = x_tensor.get_shape().as_list()[-1]\n",
    "    \n",
    "    xconv = tf.nn.conv2d(\n",
    "        x_tensor,\n",
    "        tf.Variable(tf.random_normal(conv_ksize+(input_depth, conv_num_outputs))),\n",
    "        (1,)+conv_strides+(1,),\n",
    "        'SAME'\n",
    "    )\n",
    "    xconv = tf.nn.bias_add(xconv, tf.Variable(tf.random_normal((conv_num_outputs,))))\n",
    "    \n",
    "    batch_mean, batch_variance = tf.nn.moments(xconv,[0])\n",
    "    scale = tf.Variable(tf.ones([conv_num_outputs]))\n",
    "    offset = tf.Variable(tf.zeros([conv_num_outputs]))\n",
    "    epsilon = 1e-3\n",
    "    \n",
    "    xconv = tf.nn.batch_normalization(xconv, batch_mean, batch_variance, offset, scale, epsilon)\n",
    "    \n",
    "    xconv = tf.nn.leaky_relu(xconv,alpha=0.2)\n",
    "    \n",
    "    xpool = tf.nn.max_pool(\n",
    "        xconv,\n",
    "        (1,)+pool_ksize+(1,),\n",
    "        (1,)+pool_strides+(1,),\n",
    "        'SAME'\n",
    "    )\n",
    "    \n",
    "    return xpool\n",
    "\n",
    "\n",
    "\"\"\"\n",
    "DON'T MODIFY ANYTHING IN THIS CELL THAT IS BELOW THIS LINE\n",
    "\"\"\"\n",
    "tests.test_con_pool(conv2d_maxpool)"
   ]
  },
  {
   "cell_type": "markdown",
   "metadata": {},
   "source": [
    "### Flatten Layer\n",
    "Implement the `flatten` function to change the dimension of `x_tensor` from a 4-D tensor to a 2-D tensor.  The output should be the shape (*Batch Size*, *Flattened Image Size*). Shortcut option: you can use classes from the [TensorFlow Layers](https://www.tensorflow.org/api_docs/python/tf/layers) or [TensorFlow Layers (contrib)](https://www.tensorflow.org/api_guides/python/contrib.layers) packages for this layer. For more of a challenge, only use other TensorFlow packages."
   ]
  },
  {
   "cell_type": "code",
   "execution_count": 9,
   "metadata": {},
   "outputs": [
    {
     "name": "stdout",
     "output_type": "stream",
     "text": [
      "Tests Passed\n"
     ]
    }
   ],
   "source": [
    "def flatten(x_tensor):\n",
    "    \"\"\"\n",
    "    Flatten x_tensor to (Batch Size, Flattened Image Size)\n",
    "    : x_tensor: A tensor of size (Batch Size, ...), where ... are the image dimensions.\n",
    "    : return: A tensor of size (Batch Size, Flattened Image Size).\n",
    "    \"\"\"\n",
    "    # TODO: Implement Function\n",
    "    \n",
    "    \n",
    "    xshape = x_tensor.get_shape().as_list()\n",
    "    flatdim = np.prod(xshape[1:])\n",
    "    xflat = tf.reshape(x_tensor,[-1,flatdim])\n",
    "    \n",
    "    return xflat\n",
    "\n",
    "\n",
    "\"\"\"\n",
    "DON'T MODIFY ANYTHING IN THIS CELL THAT IS BELOW THIS LINE\n",
    "\"\"\"\n",
    "tests.test_flatten(flatten)"
   ]
  },
  {
   "cell_type": "markdown",
   "metadata": {},
   "source": [
    "### Fully-Connected Layer\n",
    "Implement the `fully_conn` function to apply a fully connected layer to `x_tensor` with the shape (*Batch Size*, *num_outputs*). Shortcut option: you can use classes from the [TensorFlow Layers](https://www.tensorflow.org/api_docs/python/tf/layers) or [TensorFlow Layers (contrib)](https://www.tensorflow.org/api_guides/python/contrib.layers) packages for this layer. For more of a challenge, only use other TensorFlow packages."
   ]
  },
  {
   "cell_type": "code",
   "execution_count": 36,
   "metadata": {},
   "outputs": [
    {
     "name": "stdout",
     "output_type": "stream",
     "text": [
      "Tests Passed\n"
     ]
    }
   ],
   "source": [
    "def fully_conn(x_tensor, num_outputs):\n",
    "    \"\"\"\n",
    "    Apply a fully connected layer to x_tensor using weight and bias\n",
    "    : x_tensor: A 2-D tensor where the first dimension is batch size.\n",
    "    : num_outputs: The number of output that the new tensor should be.\n",
    "    : return: A 2-D tensor where the second dimension is num_outputs.\n",
    "    \"\"\"\n",
    "    # TODO: Implement Function\n",
    "    \n",
    "    W = tf.Variable(tf.random_normal((x_tensor.get_shape().as_list()[-1], num_outputs)))\n",
    "    B = tf.Variable(tf.random_normal((num_outputs,)))\n",
    "    \n",
    "    dense_layer = tf.add(tf.matmul(x_tensor,W), B)\n",
    "    \n",
    "    batch_mean, batch_variance = tf.nn.moments(dense_layer,[0])\n",
    "    scale = tf.Variable(tf.ones([num_outputs]))\n",
    "    offset = tf.Variable(tf.zeros([num_outputs]))\n",
    "    epsilon = 1e-3\n",
    "    \n",
    "    dense_layer = tf.nn.batch_normalization(dense_layer, batch_mean, batch_variance, offset, scale, epsilon)\n",
    "    \n",
    "    dense_layer = tf.nn.leaky_relu(dense_layer,alpha=0.2)\n",
    "    \n",
    "    return dense_layer\n",
    "\n",
    "\n",
    "\"\"\"\n",
    "DON'T MODIFY ANYTHING IN THIS CELL THAT IS BELOW THIS LINE\n",
    "\"\"\"\n",
    "tests.test_fully_conn(fully_conn)"
   ]
  },
  {
   "cell_type": "markdown",
   "metadata": {},
   "source": [
    "### Output Layer\n",
    "Implement the `output` function to apply a fully connected layer to `x_tensor` with the shape (*Batch Size*, *num_outputs*). Shortcut option: you can use classes from the [TensorFlow Layers](https://www.tensorflow.org/api_docs/python/tf/layers) or [TensorFlow Layers (contrib)](https://www.tensorflow.org/api_guides/python/contrib.layers) packages for this layer. For more of a challenge, only use other TensorFlow packages.\n",
    "\n",
    "**Note:** Activation, softmax, or cross entropy should **not** be applied to this."
   ]
  },
  {
   "cell_type": "code",
   "execution_count": 38,
   "metadata": {},
   "outputs": [
    {
     "name": "stdout",
     "output_type": "stream",
     "text": [
      "Tests Passed\n"
     ]
    }
   ],
   "source": [
    "def output(x_tensor, num_outputs):\n",
    "    \"\"\"\n",
    "    Apply a output layer to x_tensor using weight and bias\n",
    "    : x_tensor: A 2-D tensor where the first dimension is batch size.\n",
    "    : num_outputs: The number of output that the new tensor should be.\n",
    "    : return: A 2-D tensor where the second dimension is num_outputs.\n",
    "    \"\"\"\n",
    "    # TODO: Implement Function\n",
    "    \n",
    "    W = tf.Variable(tf.random_normal((x_tensor.get_shape().as_list()[-1], num_outputs)))\n",
    "    B = tf.Variable(tf.random_normal((num_outputs,)))\n",
    "    \n",
    "    dense_layer = tf.add(tf.matmul(x_tensor,W), B)\n",
    "    \n",
    "    return dense_layer\n",
    "\n",
    "\n",
    "\"\"\"\n",
    "DON'T MODIFY ANYTHING IN THIS CELL THAT IS BELOW THIS LINE\n",
    "\"\"\"\n",
    "tests.test_output(output)"
   ]
  },
  {
   "cell_type": "markdown",
   "metadata": {},
   "source": [
    "### Create Convolutional Model\n",
    "Implement the function `conv_net` to create a convolutional neural network model. The function takes in a batch of images, `x`, and outputs logits.  Use the layers you created above to create this model:\n",
    "\n",
    "* Apply 1, 2, or 3 Convolution and Max Pool layers\n",
    "* Apply a Flatten Layer\n",
    "* Apply 1, 2, or 3 Fully Connected Layers\n",
    "* Apply an Output Layer\n",
    "* Return the output\n",
    "* Apply [TensorFlow's Dropout](https://www.tensorflow.org/api_docs/python/tf/nn/dropout) to one or more layers in the model using `keep_prob`. "
   ]
  },
  {
   "cell_type": "code",
   "execution_count": 58,
   "metadata": {},
   "outputs": [
    {
     "name": "stdout",
     "output_type": "stream",
     "text": [
      "Neural Network Built!\n"
     ]
    }
   ],
   "source": [
    "def conv_net(x, keep_prob):\n",
    "    \"\"\"\n",
    "    Create a convolutional neural network model\n",
    "    : x: Placeholder tensor that holds image data.\n",
    "    : keep_prob: Placeholder tensor that hold dropout keep probability.\n",
    "    : return: Tensor that represents logits\n",
    "    \"\"\"\n",
    "    # TODO: Apply 1, 2, or 3 Convolution and Max Pool layers\n",
    "    #    Play around with different number of outputs, kernel size and stride\n",
    "    # Function Definition from Above:\n",
    "    #    conv2d_maxpool(x_tensor, conv_num_outputs, conv_ksize, conv_strides, pool_ksize, pool_strides)\n",
    "    \n",
    "    convlayer1 = conv2d_maxpool(x,32,(5,5),(1,1),(2,2),(2,2)) # 16 16\n",
    "    \n",
    "    convlayer2 = conv2d_maxpool(convlayer1,32,(3,3),(1,1),(1,1),(1,1))\n",
    "    \n",
    "    convlayer3 = conv2d_maxpool(convlayer2,128,(3,3),(1,1),(2,2),(2,2)) # 8 8\n",
    "    \n",
    "    convlayer4 = conv2d_maxpool(convlayer3,128,(3,3),(1,1),(1,1),(1,1)) \n",
    "        \n",
    "    convlayer5 = conv2d_maxpool(convlayer4, 256,(3,3),(1,1),(2,2),(2,2)) # 4 4 \n",
    "    \n",
    "    \n",
    "    # TODO: Apply a Flatten Layer\n",
    "    # Function Definition from Above:\n",
    "    #   flatten(x_tensor)\n",
    "    \n",
    "    xflat = flatten(convlayer5)\n",
    "    \n",
    "\n",
    "    # TODO: Apply 1, 2, or 3 Fully Connected Layers\n",
    "    #    Play around with different number of outputs\n",
    "    # Function Definition from Above:\n",
    "    #   fully_conn(x_tensor, num_outputs)\n",
    "    \n",
    "    denselayer1 = fully_conn(xflat, 2048)\n",
    "    denselayer1 = tf.nn.dropout(denselayer1, keep_prob)\n",
    "    \n",
    "    denselayer2 = fully_conn(denselayer1, 512)\n",
    "    denselayer2 = tf.nn.dropout(denselayer2, keep_prob)\n",
    "    \n",
    "    # TODO: Apply an Output Layer\n",
    "    #    Set this to the number of classes\n",
    "    # Function Definition from Above:\n",
    "    #   output(x_tensor, num_outputs)\n",
    "    \n",
    "    out = output(denselayer2,10)\n",
    "    \n",
    "    # TODO: return output\n",
    "    return out\n",
    "\n",
    "\n",
    "\"\"\"\n",
    "DON'T MODIFY ANYTHING IN THIS CELL THAT IS BELOW THIS LINE\n",
    "\"\"\"\n",
    "\n",
    "##############################\n",
    "## Build the Neural Network ##\n",
    "##############################\n",
    "\n",
    "# Remove previous weights, bias, inputs, etc..\n",
    "tf.reset_default_graph()\n",
    "\n",
    "# Inputs\n",
    "x = neural_net_image_input((32, 32, 3))\n",
    "y = neural_net_label_input(10)\n",
    "keep_prob = neural_net_keep_prob_input()\n",
    "\n",
    "# Model\n",
    "logits = conv_net(x, keep_prob)\n",
    "\n",
    "# Name logits Tensor, so that is can be loaded from disk after training\n",
    "logits = tf.identity(logits, name='logits')\n",
    "\n",
    "# Loss and Optimizer\n",
    "cost = tf.reduce_mean(tf.nn.softmax_cross_entropy_with_logits(logits=logits, labels=y))\n",
    "optimizer = tf.train.AdamOptimizer().minimize(cost)\n",
    "\n",
    "# Accuracy\n",
    "correct_pred = tf.equal(tf.argmax(logits, 1), tf.argmax(y, 1))\n",
    "accuracy = tf.reduce_mean(tf.cast(correct_pred, tf.float32), name='accuracy')\n",
    "\n",
    "tests.test_conv_net(conv_net)"
   ]
  },
  {
   "cell_type": "markdown",
   "metadata": {},
   "source": [
    "## Train the Neural Network\n",
    "### Single Optimization\n",
    "Implement the function `train_neural_network` to do a single optimization.  The optimization should use `optimizer` to optimize in `session` with a `feed_dict` of the following:\n",
    "* `x` for image input\n",
    "* `y` for labels\n",
    "* `keep_prob` for keep probability for dropout\n",
    "\n",
    "This function will be called for each batch, so `tf.global_variables_initializer()` has already been called.\n",
    "\n",
    "Note: Nothing needs to be returned. This function is only optimizing the neural network."
   ]
  },
  {
   "cell_type": "code",
   "execution_count": 13,
   "metadata": {},
   "outputs": [
    {
     "name": "stdout",
     "output_type": "stream",
     "text": [
      "Tests Passed\n"
     ]
    }
   ],
   "source": [
    "def train_neural_network(session, optimizer, keep_probability, feature_batch, label_batch):\n",
    "    \"\"\"\n",
    "    Optimize the session on a batch of images and labels\n",
    "    : session: Current TensorFlow session\n",
    "    : optimizer: TensorFlow optimizer function\n",
    "    : keep_probability: keep probability\n",
    "    : feature_batch: Batch of Numpy image data\n",
    "    : label_batch: Batch of Numpy label data\n",
    "    \"\"\"\n",
    "    # TODO: Implement Function\n",
    "    \n",
    "    session.run(optimizer, feed_dict={\n",
    "        \"x:0\":feature_batch,\n",
    "        \"y:0\":label_batch,\n",
    "        \"keep_prob:0\":keep_probability})\n",
    "    \n",
    "    pass\n",
    "\n",
    "\n",
    "\"\"\"\n",
    "DON'T MODIFY ANYTHING IN THIS CELL THAT IS BELOW THIS LINE\n",
    "\"\"\"\n",
    "tests.test_train_nn(train_neural_network)"
   ]
  },
  {
   "cell_type": "markdown",
   "metadata": {},
   "source": [
    "### Show Stats\n",
    "Implement the function `print_stats` to print loss and validation accuracy.  Use the global variables `valid_features` and `valid_labels` to calculate validation accuracy.  Use a keep probability of `1.0` to calculate the loss and validation accuracy."
   ]
  },
  {
   "cell_type": "code",
   "execution_count": 14,
   "metadata": {},
   "outputs": [],
   "source": [
    "def print_stats(session, feature_batch, label_batch, cost, accuracy):\n",
    "    \"\"\"\n",
    "    Print information about loss and validation accuracy\n",
    "    : session: Current TensorFlow session\n",
    "    : feature_batch: Batch of Numpy image data\n",
    "    : label_batch: Batch of Numpy label data\n",
    "    : cost: TensorFlow cost function\n",
    "    : accuracy: TensorFlow accuracy function\n",
    "    \"\"\"\n",
    "    # TODO: Implement Function\n",
    "    \n",
    "    print(\"validation loss and accuracy : \", session.run((cost, accuracy), feed_dict={\n",
    "        \"x:0\":valid_features,\n",
    "        \"y:0\":valid_labels,\n",
    "        \"keep_prob:0\":1.0}))\n",
    "    \n",
    "    pass"
   ]
  },
  {
   "cell_type": "markdown",
   "metadata": {},
   "source": [
    "### Hyperparameters\n",
    "Tune the following parameters:\n",
    "* Set `epochs` to the number of iterations until the network stops learning or start overfitting\n",
    "* Set `batch_size` to the highest number that your machine has memory for.  Most people set them to common sizes of memory:\n",
    " * 64\n",
    " * 128\n",
    " * 256\n",
    " * ...\n",
    "* Set `keep_probability` to the probability of keeping a node using dropout"
   ]
  },
  {
   "cell_type": "code",
   "execution_count": 61,
   "metadata": {},
   "outputs": [],
   "source": [
    "# TODO: Tune Parameters\n",
    "epochs = 32\n",
    "batch_size = 1024\n",
    "keep_probability = 0.5"
   ]
  },
  {
   "cell_type": "markdown",
   "metadata": {},
   "source": [
    "### Train on a Single CIFAR-10 Batch\n",
    "Instead of training the neural network on all the CIFAR-10 batches of data, let's use a single batch. This should save time while you iterate on the model to get a better accuracy.  Once the final validation accuracy is 50% or greater, run the model on all the data in the next section."
   ]
  },
  {
   "cell_type": "code",
   "execution_count": 62,
   "metadata": {
    "scrolled": false
   },
   "outputs": [
    {
     "name": "stdout",
     "output_type": "stream",
     "text": [
      "Checking the Training on a Single Batch...\n",
      "Epoch  1, CIFAR-10 Batch 1:  validation loss and accuracy :  (14.757714, 0.2708)\n",
      "Epoch  2, CIFAR-10 Batch 1:  validation loss and accuracy :  (14.079114, 0.3324)\n",
      "Epoch  3, CIFAR-10 Batch 1:  validation loss and accuracy :  (13.454359, 0.3768)\n",
      "Epoch  4, CIFAR-10 Batch 1:  validation loss and accuracy :  (12.638812, 0.4038)\n",
      "Epoch  5, CIFAR-10 Batch 1:  validation loss and accuracy :  (11.958541, 0.4224)\n",
      "Epoch  6, CIFAR-10 Batch 1:  validation loss and accuracy :  (11.370655, 0.4368)\n",
      "Epoch  7, CIFAR-10 Batch 1:  validation loss and accuracy :  (10.937238, 0.4468)\n",
      "Epoch  8, CIFAR-10 Batch 1:  validation loss and accuracy :  (10.630171, 0.456)\n",
      "Epoch  9, CIFAR-10 Batch 1:  validation loss and accuracy :  (10.334684, 0.4668)\n",
      "Epoch 10, CIFAR-10 Batch 1:  validation loss and accuracy :  (10.086108, 0.4724)\n",
      "Epoch 11, CIFAR-10 Batch 1:  validation loss and accuracy :  (9.886807, 0.4764)\n",
      "Epoch 12, CIFAR-10 Batch 1:  validation loss and accuracy :  (9.669048, 0.4808)\n",
      "Epoch 13, CIFAR-10 Batch 1:  validation loss and accuracy :  (9.440598, 0.4854)\n",
      "Epoch 14, CIFAR-10 Batch 1:  validation loss and accuracy :  (9.237224, 0.4888)\n",
      "Epoch 15, CIFAR-10 Batch 1:  validation loss and accuracy :  (9.08956, 0.4946)\n",
      "Epoch 16, CIFAR-10 Batch 1:  validation loss and accuracy :  (8.927966, 0.4984)\n",
      "Epoch 17, CIFAR-10 Batch 1:  validation loss and accuracy :  (8.777477, 0.4998)\n",
      "Epoch 18, CIFAR-10 Batch 1:  validation loss and accuracy :  (8.60834, 0.5042)\n",
      "Epoch 19, CIFAR-10 Batch 1:  validation loss and accuracy :  (8.444269, 0.5074)\n",
      "Epoch 20, CIFAR-10 Batch 1:  validation loss and accuracy :  (8.311757, 0.5106)\n",
      "Epoch 21, CIFAR-10 Batch 1:  validation loss and accuracy :  (8.187143, 0.5118)\n",
      "Epoch 22, CIFAR-10 Batch 1:  validation loss and accuracy :  (8.055736, 0.5154)\n",
      "Epoch 23, CIFAR-10 Batch 1:  validation loss and accuracy :  (7.9615273, 0.519)\n",
      "Epoch 24, CIFAR-10 Batch 1:  validation loss and accuracy :  (7.8510866, 0.5216)\n",
      "Epoch 25, CIFAR-10 Batch 1:  validation loss and accuracy :  (7.70585, 0.522)\n",
      "Epoch 26, CIFAR-10 Batch 1:  validation loss and accuracy :  (7.5525517, 0.5242)\n",
      "Epoch 27, CIFAR-10 Batch 1:  validation loss and accuracy :  (7.3975224, 0.524)\n",
      "Epoch 28, CIFAR-10 Batch 1:  validation loss and accuracy :  (7.2579, 0.5284)\n",
      "Epoch 29, CIFAR-10 Batch 1:  validation loss and accuracy :  (7.196988, 0.5314)\n",
      "Epoch 30, CIFAR-10 Batch 1:  validation loss and accuracy :  (7.1295266, 0.5312)\n",
      "Epoch 31, CIFAR-10 Batch 1:  validation loss and accuracy :  (7.0159698, 0.534)\n",
      "Epoch 32, CIFAR-10 Batch 1:  validation loss and accuracy :  (6.9322658, 0.534)\n"
     ]
    }
   ],
   "source": [
    "\"\"\"\n",
    "DON'T MODIFY ANYTHING IN THIS CELL\n",
    "\"\"\"\n",
    "print('Checking the Training on a Single Batch...')\n",
    "with tf.Session(config=tf.ConfigProto(log_device_placement=True)) as sess:\n",
    "    # Initializing the variables\n",
    "    sess.run(tf.global_variables_initializer())\n",
    "    \n",
    "    #print(\"optimizer used : \", optimizer.minimize, \" & END\")\n",
    "    \n",
    "    # Training cycle\n",
    "    for epoch in range(epochs):\n",
    "        batch_i = 1\n",
    "        for batch_features, batch_labels in helper.load_preprocess_training_batch(batch_i, batch_size):\n",
    "            train_neural_network(sess, optimizer, keep_probability, batch_features, batch_labels)\n",
    "        print('Epoch {:>2}, CIFAR-10 Batch {}:  '.format(epoch + 1, batch_i), end='')\n",
    "        print_stats(sess, batch_features, batch_labels, cost, accuracy)"
   ]
  },
  {
   "cell_type": "markdown",
   "metadata": {},
   "source": [
    "### Fully Train the Model\n",
    "Now that you got a good accuracy with a single CIFAR-10 batch, try it with all five batches."
   ]
  },
  {
   "cell_type": "code",
   "execution_count": 63,
   "metadata": {
    "scrolled": true
   },
   "outputs": [
    {
     "name": "stdout",
     "output_type": "stream",
     "text": [
      "Training...\n",
      "Epoch  1, CIFAR-10 Batch 1:  validation loss and accuracy :  (16.391123, 0.2594)\n",
      "Epoch  1, CIFAR-10 Batch 2:  validation loss and accuracy :  (14.974201, 0.333)\n",
      "Epoch  1, CIFAR-10 Batch 3:  validation loss and accuracy :  (13.851934, 0.3682)\n",
      "Epoch  1, CIFAR-10 Batch 4:  validation loss and accuracy :  (12.6277075, 0.397)\n",
      "Epoch  1, CIFAR-10 Batch 5:  validation loss and accuracy :  (11.780154, 0.4236)\n",
      "Epoch  2, CIFAR-10 Batch 1:  validation loss and accuracy :  (11.431235, 0.4386)\n",
      "Epoch  2, CIFAR-10 Batch 2:  validation loss and accuracy :  (10.970901, 0.4478)\n",
      "Epoch  2, CIFAR-10 Batch 3:  validation loss and accuracy :  (10.480725, 0.455)\n",
      "Epoch  2, CIFAR-10 Batch 4:  validation loss and accuracy :  (10.099852, 0.4636)\n",
      "Epoch  2, CIFAR-10 Batch 5:  validation loss and accuracy :  (9.74484, 0.472)\n",
      "Epoch  3, CIFAR-10 Batch 1:  validation loss and accuracy :  (9.471477, 0.4794)\n",
      "Epoch  3, CIFAR-10 Batch 2:  validation loss and accuracy :  (9.270152, 0.4866)\n",
      "Epoch  3, CIFAR-10 Batch 3:  validation loss and accuracy :  (9.102443, 0.4894)\n",
      "Epoch  3, CIFAR-10 Batch 4:  validation loss and accuracy :  (8.884046, 0.4918)\n",
      "Epoch  3, CIFAR-10 Batch 5:  validation loss and accuracy :  (8.5692425, 0.5008)\n",
      "Epoch  4, CIFAR-10 Batch 1:  validation loss and accuracy :  (8.324454, 0.5084)\n",
      "Epoch  4, CIFAR-10 Batch 2:  validation loss and accuracy :  (8.1615505, 0.5098)\n",
      "Epoch  4, CIFAR-10 Batch 3:  validation loss and accuracy :  (8.065471, 0.5116)\n",
      "Epoch  4, CIFAR-10 Batch 4:  validation loss and accuracy :  (7.9836397, 0.5126)\n",
      "Epoch  4, CIFAR-10 Batch 5:  validation loss and accuracy :  (7.6473546, 0.5222)\n",
      "Epoch  5, CIFAR-10 Batch 1:  validation loss and accuracy :  (7.4770656, 0.5246)\n",
      "Epoch  5, CIFAR-10 Batch 2:  validation loss and accuracy :  (7.3267694, 0.5278)\n",
      "Epoch  5, CIFAR-10 Batch 3:  validation loss and accuracy :  (7.189649, 0.5346)\n",
      "Epoch  5, CIFAR-10 Batch 4:  validation loss and accuracy :  (7.0756717, 0.5318)\n",
      "Epoch  5, CIFAR-10 Batch 5:  validation loss and accuracy :  (6.924255, 0.5346)\n",
      "Epoch  6, CIFAR-10 Batch 1:  validation loss and accuracy :  (6.781627, 0.5388)\n",
      "Epoch  6, CIFAR-10 Batch 2:  validation loss and accuracy :  (6.669754, 0.54)\n",
      "Epoch  6, CIFAR-10 Batch 3:  validation loss and accuracy :  (6.5507703, 0.5434)\n",
      "Epoch  6, CIFAR-10 Batch 4:  validation loss and accuracy :  (6.394207, 0.5468)\n",
      "Epoch  6, CIFAR-10 Batch 5:  validation loss and accuracy :  (6.232271, 0.5468)\n",
      "Epoch  7, CIFAR-10 Batch 1:  validation loss and accuracy :  (6.1364117, 0.5516)\n",
      "Epoch  7, CIFAR-10 Batch 2:  validation loss and accuracy :  (6.031562, 0.5526)\n",
      "Epoch  7, CIFAR-10 Batch 3:  validation loss and accuracy :  (5.989467, 0.5552)\n",
      "Epoch  7, CIFAR-10 Batch 4:  validation loss and accuracy :  (5.911146, 0.5574)\n",
      "Epoch  7, CIFAR-10 Batch 5:  validation loss and accuracy :  (5.757528, 0.5614)\n",
      "Epoch  8, CIFAR-10 Batch 1:  validation loss and accuracy :  (5.6492167, 0.5594)\n",
      "Epoch  8, CIFAR-10 Batch 2:  validation loss and accuracy :  (5.538588, 0.562)\n",
      "Epoch  8, CIFAR-10 Batch 3:  validation loss and accuracy :  (5.4419994, 0.566)\n",
      "Epoch  8, CIFAR-10 Batch 4:  validation loss and accuracy :  (5.3253546, 0.5688)\n",
      "Epoch  8, CIFAR-10 Batch 5:  validation loss and accuracy :  (5.190361, 0.5674)\n",
      "Epoch  9, CIFAR-10 Batch 1:  validation loss and accuracy :  (5.128393, 0.5682)\n",
      "Epoch  9, CIFAR-10 Batch 2:  validation loss and accuracy :  (5.02349, 0.5694)\n",
      "Epoch  9, CIFAR-10 Batch 3:  validation loss and accuracy :  (4.9556084, 0.5706)\n",
      "Epoch  9, CIFAR-10 Batch 4:  validation loss and accuracy :  (4.9107323, 0.5718)\n",
      "Epoch  9, CIFAR-10 Batch 5:  validation loss and accuracy :  (4.802509, 0.5726)\n",
      "Epoch 10, CIFAR-10 Batch 1:  validation loss and accuracy :  (4.6918526, 0.5738)\n",
      "Epoch 10, CIFAR-10 Batch 2:  validation loss and accuracy :  (4.6070056, 0.5758)\n",
      "Epoch 10, CIFAR-10 Batch 3:  validation loss and accuracy :  (4.5225205, 0.574)\n",
      "Epoch 10, CIFAR-10 Batch 4:  validation loss and accuracy :  (4.461191, 0.5742)\n",
      "Epoch 10, CIFAR-10 Batch 5:  validation loss and accuracy :  (4.3667874, 0.576)\n",
      "Epoch 11, CIFAR-10 Batch 1:  validation loss and accuracy :  (4.2768197, 0.5776)\n",
      "Epoch 11, CIFAR-10 Batch 2:  validation loss and accuracy :  (4.198849, 0.582)\n",
      "Epoch 11, CIFAR-10 Batch 3:  validation loss and accuracy :  (4.150812, 0.5846)\n",
      "Epoch 11, CIFAR-10 Batch 4:  validation loss and accuracy :  (4.128319, 0.582)\n",
      "Epoch 11, CIFAR-10 Batch 5:  validation loss and accuracy :  (4.052226, 0.5802)\n",
      "Epoch 12, CIFAR-10 Batch 1:  validation loss and accuracy :  (3.945696, 0.581)\n",
      "Epoch 12, CIFAR-10 Batch 2:  validation loss and accuracy :  (3.871589, 0.5824)\n",
      "Epoch 12, CIFAR-10 Batch 3:  validation loss and accuracy :  (3.8307965, 0.5832)\n",
      "Epoch 12, CIFAR-10 Batch 4:  validation loss and accuracy :  (3.7945194, 0.5858)\n",
      "Epoch 12, CIFAR-10 Batch 5:  validation loss and accuracy :  (3.7217212, 0.5846)\n",
      "Epoch 13, CIFAR-10 Batch 1:  validation loss and accuracy :  (3.636732, 0.5894)\n",
      "Epoch 13, CIFAR-10 Batch 2:  validation loss and accuracy :  (3.5838833, 0.5874)\n",
      "Epoch 13, CIFAR-10 Batch 3:  validation loss and accuracy :  (3.53303, 0.5902)\n",
      "Epoch 13, CIFAR-10 Batch 4:  validation loss and accuracy :  (3.4709938, 0.5904)\n",
      "Epoch 13, CIFAR-10 Batch 5:  validation loss and accuracy :  (3.4003894, 0.5886)\n",
      "Epoch 14, CIFAR-10 Batch 1:  validation loss and accuracy :  (3.3385656, 0.59)\n",
      "Epoch 14, CIFAR-10 Batch 2:  validation loss and accuracy :  (3.28364, 0.5912)\n",
      "Epoch 14, CIFAR-10 Batch 3:  validation loss and accuracy :  (3.23447, 0.5916)\n",
      "Epoch 14, CIFAR-10 Batch 4:  validation loss and accuracy :  (3.176909, 0.5916)\n",
      "Epoch 14, CIFAR-10 Batch 5:  validation loss and accuracy :  (3.109602, 0.59)\n",
      "Epoch 15, CIFAR-10 Batch 1:  validation loss and accuracy :  (3.0457256, 0.5878)\n",
      "Epoch 15, CIFAR-10 Batch 2:  validation loss and accuracy :  (3.0115316, 0.5926)\n",
      "Epoch 15, CIFAR-10 Batch 3:  validation loss and accuracy :  (2.9964852, 0.5944)\n",
      "Epoch 15, CIFAR-10 Batch 4:  validation loss and accuracy :  (2.9451988, 0.595)\n",
      "Epoch 15, CIFAR-10 Batch 5:  validation loss and accuracy :  (2.898126, 0.596)\n",
      "Epoch 16, CIFAR-10 Batch 1:  validation loss and accuracy :  (2.8482323, 0.5944)\n",
      "Epoch 16, CIFAR-10 Batch 2:  validation loss and accuracy :  (2.7834482, 0.5998)\n",
      "Epoch 16, CIFAR-10 Batch 3:  validation loss and accuracy :  (2.7297754, 0.6014)\n",
      "Epoch 16, CIFAR-10 Batch 4:  validation loss and accuracy :  (2.6960151, 0.6004)\n",
      "Epoch 16, CIFAR-10 Batch 5:  validation loss and accuracy :  (2.6655116, 0.599)\n",
      "Epoch 17, CIFAR-10 Batch 1:  validation loss and accuracy :  (2.6247413, 0.5972)\n",
      "Epoch 17, CIFAR-10 Batch 2:  validation loss and accuracy :  (2.5690317, 0.5984)\n",
      "Epoch 17, CIFAR-10 Batch 3:  validation loss and accuracy :  (2.5374584, 0.6016)\n",
      "Epoch 17, CIFAR-10 Batch 4:  validation loss and accuracy :  (2.5227854, 0.6002)\n",
      "Epoch 17, CIFAR-10 Batch 5:  validation loss and accuracy :  (2.4841774, 0.5998)\n",
      "Epoch 18, CIFAR-10 Batch 1:  validation loss and accuracy :  (2.4488797, 0.5988)\n",
      "Epoch 18, CIFAR-10 Batch 2:  validation loss and accuracy :  (2.4162471, 0.5996)\n",
      "Epoch 18, CIFAR-10 Batch 3:  validation loss and accuracy :  (2.3678956, 0.602)\n",
      "Epoch 18, CIFAR-10 Batch 4:  validation loss and accuracy :  (2.323502, 0.6028)\n",
      "Epoch 18, CIFAR-10 Batch 5:  validation loss and accuracy :  (2.281096, 0.603)\n",
      "Epoch 19, CIFAR-10 Batch 1:  validation loss and accuracy :  (2.271991, 0.6014)\n",
      "Epoch 19, CIFAR-10 Batch 2:  validation loss and accuracy :  (2.2622313, 0.599)\n",
      "Epoch 19, CIFAR-10 Batch 3:  validation loss and accuracy :  (2.2524116, 0.6008)\n",
      "Epoch 19, CIFAR-10 Batch 4:  validation loss and accuracy :  (2.2156174, 0.6036)\n",
      "Epoch 19, CIFAR-10 Batch 5:  validation loss and accuracy :  (2.178828, 0.6014)\n",
      "Epoch 20, CIFAR-10 Batch 1:  validation loss and accuracy :  (2.1548111, 0.599)\n",
      "Epoch 20, CIFAR-10 Batch 2:  validation loss and accuracy :  (2.1219099, 0.6016)\n",
      "Epoch 20, CIFAR-10 Batch 3:  validation loss and accuracy :  (2.1072636, 0.6008)\n",
      "Epoch 20, CIFAR-10 Batch 4:  validation loss and accuracy :  (2.1061301, 0.6014)\n",
      "Epoch 20, CIFAR-10 Batch 5:  validation loss and accuracy :  (2.0721865, 0.6028)\n",
      "Epoch 21, CIFAR-10 Batch 1:  validation loss and accuracy :  (2.0233095, 0.6032)\n",
      "Epoch 21, CIFAR-10 Batch 2:  validation loss and accuracy :  (2.000795, 0.6036)\n"
     ]
    },
    {
     "name": "stdout",
     "output_type": "stream",
     "text": [
      "Epoch 21, CIFAR-10 Batch 3:  validation loss and accuracy :  (1.9881543, 0.6044)\n",
      "Epoch 21, CIFAR-10 Batch 4:  validation loss and accuracy :  (1.9672028, 0.6042)\n",
      "Epoch 21, CIFAR-10 Batch 5:  validation loss and accuracy :  (1.950965, 0.6034)\n",
      "Epoch 22, CIFAR-10 Batch 1:  validation loss and accuracy :  (1.9341233, 0.6048)\n",
      "Epoch 22, CIFAR-10 Batch 2:  validation loss and accuracy :  (1.9288242, 0.6028)\n",
      "Epoch 22, CIFAR-10 Batch 3:  validation loss and accuracy :  (1.9147362, 0.6046)\n",
      "Epoch 22, CIFAR-10 Batch 4:  validation loss and accuracy :  (1.8960102, 0.605)\n",
      "Epoch 22, CIFAR-10 Batch 5:  validation loss and accuracy :  (1.8716481, 0.6062)\n",
      "Epoch 23, CIFAR-10 Batch 1:  validation loss and accuracy :  (1.8457439, 0.607)\n",
      "Epoch 23, CIFAR-10 Batch 2:  validation loss and accuracy :  (1.8277457, 0.6088)\n",
      "Epoch 23, CIFAR-10 Batch 3:  validation loss and accuracy :  (1.8152539, 0.6074)\n",
      "Epoch 23, CIFAR-10 Batch 4:  validation loss and accuracy :  (1.8111848, 0.6092)\n",
      "Epoch 23, CIFAR-10 Batch 5:  validation loss and accuracy :  (1.8056096, 0.6086)\n",
      "Epoch 24, CIFAR-10 Batch 1:  validation loss and accuracy :  (1.7896242, 0.6074)\n",
      "Epoch 24, CIFAR-10 Batch 2:  validation loss and accuracy :  (1.7714944, 0.6052)\n",
      "Epoch 24, CIFAR-10 Batch 3:  validation loss and accuracy :  (1.7534198, 0.6094)\n",
      "Epoch 24, CIFAR-10 Batch 4:  validation loss and accuracy :  (1.7496088, 0.6078)\n",
      "Epoch 24, CIFAR-10 Batch 5:  validation loss and accuracy :  (1.7370076, 0.608)\n",
      "Epoch 25, CIFAR-10 Batch 1:  validation loss and accuracy :  (1.7161831, 0.6088)\n",
      "Epoch 25, CIFAR-10 Batch 2:  validation loss and accuracy :  (1.7094399, 0.609)\n",
      "Epoch 25, CIFAR-10 Batch 3:  validation loss and accuracy :  (1.7010278, 0.6066)\n",
      "Epoch 25, CIFAR-10 Batch 4:  validation loss and accuracy :  (1.6908779, 0.6086)\n",
      "Epoch 25, CIFAR-10 Batch 5:  validation loss and accuracy :  (1.6753104, 0.6088)\n",
      "Epoch 26, CIFAR-10 Batch 1:  validation loss and accuracy :  (1.6598426, 0.612)\n",
      "Epoch 26, CIFAR-10 Batch 2:  validation loss and accuracy :  (1.6455696, 0.6114)\n",
      "Epoch 26, CIFAR-10 Batch 3:  validation loss and accuracy :  (1.6353263, 0.611)\n",
      "Epoch 26, CIFAR-10 Batch 4:  validation loss and accuracy :  (1.6179153, 0.6124)\n",
      "Epoch 26, CIFAR-10 Batch 5:  validation loss and accuracy :  (1.6046153, 0.61)\n",
      "Epoch 27, CIFAR-10 Batch 1:  validation loss and accuracy :  (1.5969557, 0.6098)\n",
      "Epoch 27, CIFAR-10 Batch 2:  validation loss and accuracy :  (1.5924228, 0.6132)\n",
      "Epoch 27, CIFAR-10 Batch 3:  validation loss and accuracy :  (1.5809274, 0.6142)\n",
      "Epoch 27, CIFAR-10 Batch 4:  validation loss and accuracy :  (1.575601, 0.6128)\n",
      "Epoch 27, CIFAR-10 Batch 5:  validation loss and accuracy :  (1.5697637, 0.6126)\n",
      "Epoch 28, CIFAR-10 Batch 1:  validation loss and accuracy :  (1.5516127, 0.6142)\n",
      "Epoch 28, CIFAR-10 Batch 2:  validation loss and accuracy :  (1.541414, 0.618)\n",
      "Epoch 28, CIFAR-10 Batch 3:  validation loss and accuracy :  (1.5343977, 0.6166)\n",
      "Epoch 28, CIFAR-10 Batch 4:  validation loss and accuracy :  (1.5334978, 0.615)\n",
      "Epoch 28, CIFAR-10 Batch 5:  validation loss and accuracy :  (1.5259056, 0.6136)\n",
      "Epoch 29, CIFAR-10 Batch 1:  validation loss and accuracy :  (1.5106213, 0.6128)\n",
      "Epoch 29, CIFAR-10 Batch 2:  validation loss and accuracy :  (1.5067606, 0.6168)\n",
      "Epoch 29, CIFAR-10 Batch 3:  validation loss and accuracy :  (1.5055547, 0.615)\n",
      "Epoch 29, CIFAR-10 Batch 4:  validation loss and accuracy :  (1.5044911, 0.6164)\n",
      "Epoch 29, CIFAR-10 Batch 5:  validation loss and accuracy :  (1.4900116, 0.6182)\n",
      "Epoch 30, CIFAR-10 Batch 1:  validation loss and accuracy :  (1.4777883, 0.6148)\n",
      "Epoch 30, CIFAR-10 Batch 2:  validation loss and accuracy :  (1.4754937, 0.617)\n",
      "Epoch 30, CIFAR-10 Batch 3:  validation loss and accuracy :  (1.4679711, 0.6164)\n",
      "Epoch 30, CIFAR-10 Batch 4:  validation loss and accuracy :  (1.4619317, 0.6152)\n",
      "Epoch 30, CIFAR-10 Batch 5:  validation loss and accuracy :  (1.4477569, 0.6186)\n",
      "Epoch 31, CIFAR-10 Batch 1:  validation loss and accuracy :  (1.4280074, 0.6188)\n",
      "Epoch 31, CIFAR-10 Batch 2:  validation loss and accuracy :  (1.4288296, 0.622)\n",
      "Epoch 31, CIFAR-10 Batch 3:  validation loss and accuracy :  (1.4325536, 0.6208)\n",
      "Epoch 31, CIFAR-10 Batch 4:  validation loss and accuracy :  (1.4287788, 0.6208)\n",
      "Epoch 31, CIFAR-10 Batch 5:  validation loss and accuracy :  (1.4146597, 0.6208)\n",
      "Epoch 32, CIFAR-10 Batch 1:  validation loss and accuracy :  (1.400044, 0.6208)\n",
      "Epoch 32, CIFAR-10 Batch 2:  validation loss and accuracy :  (1.3954129, 0.6214)\n",
      "Epoch 32, CIFAR-10 Batch 3:  validation loss and accuracy :  (1.3954486, 0.622)\n",
      "Epoch 32, CIFAR-10 Batch 4:  validation loss and accuracy :  (1.3903701, 0.6228)\n",
      "Epoch 32, CIFAR-10 Batch 5:  validation loss and accuracy :  (1.3840357, 0.6216)\n"
     ]
    }
   ],
   "source": [
    "\"\"\"\n",
    "DON'T MODIFY ANYTHING IN THIS CELL\n",
    "\"\"\"\n",
    "save_model_path = './image_classification'\n",
    "\n",
    "print('Training...')\n",
    "with tf.Session() as sess:\n",
    "    # Initializing the variables\n",
    "    sess.run(tf.global_variables_initializer())\n",
    "    \n",
    "    # Training cycle\n",
    "    for epoch in range(epochs):\n",
    "        # Loop over all batches\n",
    "        n_batches = 5\n",
    "        for batch_i in range(1, n_batches + 1):\n",
    "            for batch_features, batch_labels in helper.load_preprocess_training_batch(batch_i, batch_size):\n",
    "                train_neural_network(sess, optimizer, keep_probability, batch_features, batch_labels)\n",
    "            print('Epoch {:>2}, CIFAR-10 Batch {}:  '.format(epoch + 1, batch_i), end='')\n",
    "            print_stats(sess, batch_features, batch_labels, cost, accuracy)\n",
    "            \n",
    "    # Save Model\n",
    "    saver = tf.train.Saver()\n",
    "    save_path = saver.save(sess, save_model_path)"
   ]
  },
  {
   "cell_type": "markdown",
   "metadata": {},
   "source": [
    "# Checkpoint\n",
    "The model has been saved to disk.\n",
    "## Test Model\n",
    "Test your model against the test dataset.  This will be your final accuracy. You should have an accuracy greater than 50%. If you don't, keep tweaking the model architecture and parameters."
   ]
  },
  {
   "cell_type": "code",
   "execution_count": 65,
   "metadata": {},
   "outputs": [
    {
     "name": "stdout",
     "output_type": "stream",
     "text": [
      "INFO:tensorflow:Restoring parameters from ./image_classification\n",
      "Testing Accuracy: 0.6233019769191742\n",
      "\n"
     ]
    },
    {
     "data": {
      "image/png": "[encoded data removed]",
      "text/plain": [
       "<matplotlib.figure.Figure at 0x7f03f783c2b0>"
      ]
     },
     "metadata": {
      "image/png": {
       "height": 319,
       "width": 355
      }
     },
     "output_type": "display_data"
    }
   ],
   "source": [
    "\"\"\"\n",
    "DON'T MODIFY ANYTHING IN THIS CELL\n",
    "\"\"\"\n",
    "%matplotlib inline\n",
    "%config InlineBackend.figure_format = 'retina'\n",
    "\n",
    "import tensorflow as tf\n",
    "import pickle\n",
    "import helper\n",
    "import random\n",
    "\n",
    "# Set batch size if not already set\n",
    "try:\n",
    "    if batch_size:\n",
    "        pass\n",
    "except NameError:\n",
    "    batch_size = 64\n",
    "\n",
    "save_model_path = './image_classification'\n",
    "n_samples = 4\n",
    "top_n_predictions = 3\n",
    "\n",
    "def test_model():\n",
    "    \"\"\"\n",
    "    Test the saved model against the test dataset\n",
    "    \"\"\"\n",
    "\n",
    "    test_features, test_labels = pickle.load(open('preprocess_training.p', mode='rb'))\n",
    "    loaded_graph = tf.Graph()\n",
    "\n",
    "    with tf.Session(graph=loaded_graph) as sess:\n",
    "        # Load model\n",
    "        loader = tf.train.import_meta_graph(save_model_path + '.meta')\n",
    "        loader.restore(sess, save_model_path)\n",
    "\n",
    "        # Get Tensors from loaded model\n",
    "        loaded_x = loaded_graph.get_tensor_by_name('x:0')\n",
    "        loaded_y = loaded_graph.get_tensor_by_name('y:0')\n",
    "        loaded_keep_prob = loaded_graph.get_tensor_by_name('keep_prob:0')\n",
    "        loaded_logits = loaded_graph.get_tensor_by_name('logits:0')\n",
    "        loaded_acc = loaded_graph.get_tensor_by_name('accuracy:0')\n",
    "        \n",
    "        # Get accuracy in batches for memory limitations\n",
    "        test_batch_acc_total = 0\n",
    "        test_batch_count = 0\n",
    "        \n",
    "        for train_feature_batch, train_label_batch in helper.batch_features_labels(test_features, test_labels, batch_size):\n",
    "            test_batch_acc_total += sess.run(\n",
    "                loaded_acc,\n",
    "                feed_dict={loaded_x: train_feature_batch, loaded_y: train_label_batch, loaded_keep_prob: 1.0})\n",
    "            test_batch_count += 1\n",
    "\n",
    "        print('Testing Accuracy: {}\\n'.format(test_batch_acc_total/test_batch_count))\n",
    "\n",
    "        # Print Random Samples\n",
    "        random_test_features, random_test_labels = tuple(zip(*random.sample(list(zip(test_features, test_labels)), n_samples)))\n",
    "        random_test_predictions = sess.run(\n",
    "            tf.nn.top_k(tf.nn.softmax(loaded_logits), top_n_predictions),\n",
    "            feed_dict={loaded_x: random_test_features, loaded_y: random_test_labels, loaded_keep_prob: 1.0})\n",
    "        helper.display_image_predictions(random_test_features, random_test_labels, random_test_predictions)\n",
    "\n",
    "\n",
    "test_model()"
   ]
  },
  {
   "cell_type": "markdown",
   "metadata": {},
   "source": [
    "## Why 50-80% Accuracy?\n",
    "You might be wondering why you can't get an accuracy any higher. First things first, 50% isn't bad for a simple CNN.  Pure guessing would get you 10% accuracy. That's because there are many more techniques that can be applied to your model and we recemmond that once you are done with this project, you explore!\n",
    "\n",
    "## Submitting This Project\n",
    "When submitting this project, make sure to run all the cells before saving the notebook.  Save the notebook file as \"image_classification.ipynb\" and save it as a HTML file under \"File\" -> \"Download as\".  Include the \"helper.py\" and \"problem_unittests.py\" files in your submission."
   ]
  }
 ],
 "metadata": {
  "kernelspec": {
   "display_name": "Python 3",
   "language": "python",
   "name": "python3"
  },
  "language_info": {
   "codemirror_mode": {
    "name": "ipython",
    "version": 3
   },
   "file_extension": ".py",
   "mimetype": "text/x-python",
   "name": "python",
   "nbconvert_exporter": "python",
   "pygments_lexer": "ipython3",
   "version": "3.6.4"
  }
 },
 "nbformat": 4,
 "nbformat_minor": 1
}
